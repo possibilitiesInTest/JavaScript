{
 "cells": [
  {
   "cell_type": "markdown",
   "metadata": {},
   "source": [
    "interleaving spread operator with multiple arguments"
   ]
  },
  {
   "cell_type": "code",
   "execution_count": 1,
   "metadata": {},
   "outputs": [
    {
     "name": "stdout",
     "output_type": "stream",
     "text": [
      "4\n",
      "4\n"
     ]
    }
   ],
   "source": [
    "function foo (...args) {\n",
    "    console.log( args[3] );\n",
    "}\n",
    "\n",
    "var arr = [1, 2, 3, 4, 5];\n",
    "\n",
    "foo( ...arr );\n",
    "var arr = [2];\n",
    "foo (1, ...arr, 3, ...[4,5]);  "
   ]
  },
  {
   "cell_type": "code",
   "execution_count": null,
   "metadata": {},
   "outputs": [],
   "source": []
  },
  {
   "cell_type": "code",
   "execution_count": null,
   "metadata": {},
   "outputs": [],
   "source": [
    "function foo (...args) {\n",
    "\n",
    "    console.log( args.length );\n",
    "\n",
    "}\n",
    "\n",
    "function foo([x,y,...args]=[]){   \n",
    "\n",
    "}\n",
    "\n",
    "foo([1,2,3]);"
   ]
  },
  {
   "cell_type": "markdown",
   "metadata": {},
   "source": [
    "collecting multiple values into an array to return"
   ]
  },
  {
   "cell_type": "code",
   "execution_count": null,
   "metadata": {},
   "outputs": [],
   "source": [
    "function foo(){\n",
    "    var retValue1 = 11;\n",
    "    var retValue2 = 31;\n",
    "    return [ retValue1, retValue2];\n",
    "\n",
    "}\n",
    "\n",
    "\n",
    "var [ x,y ] = foo();\n",
    "\n",
    "console.log(x + y);\n",
    "\n",
    "42\n"
   ]
  },
  {
   "cell_type": "markdown",
   "metadata": {},
   "source": [
    "early returns and single return"
   ]
  },
  {
   "cell_type": "code",
   "execution_count": null,
   "metadata": {},
   "outputs": [],
   "source": [
    "function foo (x) {\n",
    "\n",
    "    if(x > 10) return x + 1;\n",
    "    var y = x / 2;\n",
    "    if(y > 3) {\n",
    "\n",
    "        if(x % 2 == 0) return x;\n",
    "    }\n",
    "    if (y > 1) return y;\n",
    "    return x;\n",
    "}\n",
    "\n",
    "console.log(foo(2));\n",
    "console.log(foo(4));\n",
    "console.log(foo(8));\n",
    "console.log(foo(12));\n",
    "\n"
   ]
  },
  {
   "cell_type": "code",
   "execution_count": 2,
   "metadata": {},
   "outputs": [
    {
     "name": "stdout",
     "output_type": "stream",
     "text": [
      "1\n",
      "2\n",
      "4\n",
      "6\n"
     ]
    }
   ],
   "source": [
    "function foo(x) {\n",
    "\n",
    "    var retValue;\n",
    "\n",
    "    if(retValue == undefined && x > 10) {\n",
    "        retValue = x + 1;\n",
    "    }\n",
    "\n",
    "    var y = x / 2;\n",
    "    \n",
    "    if( y > 3){\n",
    "        if (retValue = undefined && x % 2 == 0) {\n",
    "            retValue = x\n",
    "        }\n",
    "    }\n",
    "\n",
    "    if(retValue == undefined && 1 < y < 3) {\n",
    "        retValue = y\n",
    "    }\n",
    "\n",
    "    if(retValue == undefined) {\n",
    "        retValue = x;\n",
    "    }\n",
    "    return retValue;\n",
    "}\n",
    "\n",
    "\n",
    "console.log(foo(2));\n",
    "console.log(foo(4));\n",
    "console.log(foo(8));\n",
    "console.log(foo(12));"
   ]
  },
  {
   "cell_type": "markdown",
   "metadata": {},
   "source": [
    "implicit vs explicit output"
   ]
  },
  {
   "cell_type": "code",
   "execution_count": 4,
   "metadata": {},
   "outputs": [
    {
     "data": {
      "text/plain": [
       "11"
      ]
     },
     "execution_count": 4,
     "metadata": {},
     "output_type": "execute_result"
    }
   ],
   "source": [
    "var y;\n",
    "\n",
    "function f(x) {\n",
    "    y = (2 * Math.pow(x,2)) + 3;\n",
    "}\n",
    "\n",
    "f(2);\n",
    "\n",
    "y;"
   ]
  },
  {
   "cell_type": "code",
   "execution_count": 5,
   "metadata": {},
   "outputs": [
    {
     "data": {
      "text/plain": [
       "11"
      ]
     },
     "execution_count": 5,
     "metadata": {},
     "output_type": "execute_result"
    }
   ],
   "source": [
    "function f(x) {\n",
    "    return ( 2 * Math.pow(x,2)) + 3;\n",
    "}\n",
    "\n",
    "var y = f(2);\n",
    "\n",
    "y;"
   ]
  },
  {
   "cell_type": "markdown",
   "metadata": {},
   "source": [
    "avoiding side effects"
   ]
  },
  {
   "cell_type": "code",
   "execution_count": 6,
   "metadata": {},
   "outputs": [
    {
     "name": "stdout",
     "output_type": "stream",
     "text": [
      "[ 1, 3, 9, 27, <1 empty item>, 84 ]\n",
      "[ 1, 3, 9, 27, 0, 84 ]\n"
     ]
    }
   ],
   "source": [
    "function sum (list) {\n",
    "    var total = 0;\n",
    "    for (let i=0; i < list.length; i++) {\n",
    "        if(!list[i]) list[i] = 0;\n",
    "        total = total + list[i];\n",
    "    }\n",
    "    return total;\n",
    "}\n",
    "\n",
    "\n",
    "var nums = [1, 3, 9 ,27, , 84];\n",
    "\n",
    "console.log(nums);\n",
    "sum(nums);\n",
    "console.log(nums);"
   ]
  },
  {
   "cell_type": "markdown",
   "metadata": {},
   "source": []
  },
  {
   "cell_type": "markdown",
   "metadata": {},
   "source": []
  },
  {
   "cell_type": "code",
   "execution_count": null,
   "metadata": {},
   "outputs": [],
   "source": []
  },
  {
   "cell_type": "code",
   "execution_count": null,
   "metadata": {},
   "outputs": [],
   "source": []
  },
  {
   "cell_type": "code",
   "execution_count": null,
   "metadata": {},
   "outputs": [],
   "source": []
  },
  {
   "cell_type": "code",
   "execution_count": null,
   "metadata": {},
   "outputs": [],
   "source": []
  }
 ],
 "metadata": {
  "kernelspec": {
   "display_name": "Javascript (Node.js)",
   "language": "javascript",
   "name": "javascript"
  },
  "language_info": {
   "file_extension": ".js",
   "mimetype": "application/javascript",
   "name": "javascript",
   "version": "10.15.3"
  }
 },
 "nbformat": 4,
 "nbformat_minor": 2
}
