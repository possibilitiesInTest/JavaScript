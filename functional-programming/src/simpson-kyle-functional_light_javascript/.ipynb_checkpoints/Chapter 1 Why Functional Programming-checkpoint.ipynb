{
 "cells": [
  {
   "cell_type": "markdown",
   "metadata": {},
   "source": [
    "Some Markdown about what's below:"
   ]
  },
  {
   "cell_type": "code",
   "execution_count": 5,
   "metadata": {},
   "outputs": [
    {
     "name": "stdout",
     "output_type": "stream",
     "text": [
      "The magic number is: 42\n"
     ]
    }
   ],
   "source": [
    "var numbers = [4, 10, 0, 27, 42, 17, 15, -6, 58]\n",
    "var faves = [];\n",
    "var magicNumber = 0;\n",
    "\n",
    "pickFavoriteNumbers();\n",
    "calculateMagicNumber();\n",
    "outputMsg();\n",
    "\n",
    "////////////////////////\n",
    "function calculateMagicNumber() {\n",
    "    for (let fave of faves) {\n",
    "        magicNumber = magicNumber + fave;\n",
    "    }\n",
    "}\n",
    "\n",
    "function pickFavoriteNumbers(){\n",
    "    for (let num of numbers) {\n",
    "        if (num >= 10 && num <= 20) {\n",
    "            faves.push( num );\n",
    "        }\n",
    "    }\n",
    "}\n",
    "\n",
    "function outputMsg() {\n",
    "    var msg = `The magic number is: ${magicNumber}`;\n",
    "    console.log(msg);\n",
    "}"
   ]
  },
  {
   "cell_type": "markdown",
   "metadata": {},
   "source": [
    "Functional Solve Below:"
   ]
  },
  {
   "cell_type": "raw",
   "metadata": {},
   "source": []
  },
  {
   "cell_type": "code",
   "execution_count": null,
   "metadata": {},
   "outputs": [],
   "source": []
  }
 ],
 "metadata": {
  "kernelspec": {
   "display_name": "Javascript (Node.js)",
   "language": "javascript",
   "name": "javascript"
  },
  "language_info": {
   "file_extension": ".js",
   "mimetype": "application/javascript",
   "name": "javascript",
   "version": "10.15.3"
  }
 },
 "nbformat": 4,
 "nbformat_minor": 2
}
